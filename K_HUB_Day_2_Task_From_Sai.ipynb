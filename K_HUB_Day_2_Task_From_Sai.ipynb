{
  "nbformat": 4,
  "nbformat_minor": 0,
  "metadata": {
    "colab": {
      "provenance": []
    },
    "kernelspec": {
      "name": "python3",
      "display_name": "Python 3"
    },
    "language_info": {
      "name": "python"
    }
  },
  "cells": [
    {
      "cell_type": "markdown",
      "source": [
        "1. Print Numbers 1 to 10\n",
        "\n",
        "Use a for loop to print numbers from 1 to 10."
      ],
      "metadata": {
        "id": "MlTvL3XSWX-N"
      }
    },
    {
      "cell_type": "code",
      "execution_count": 1,
      "metadata": {
        "colab": {
          "base_uri": "https://localhost:8080/"
        },
        "id": "ZXW3dB4tOxM_",
        "outputId": "67109e1e-bb57-4d48-bbf7-8b47c6d0c8f3"
      },
      "outputs": [
        {
          "output_type": "stream",
          "name": "stdout",
          "text": [
            "1\n",
            "2\n",
            "3\n",
            "4\n",
            "5\n",
            "6\n",
            "7\n",
            "8\n",
            "9\n",
            "10\n"
          ]
        }
      ],
      "source": [
        "for i in range(1 ,11):\n",
        "    print(i)"
      ]
    },
    {
      "cell_type": "markdown",
      "source": [
        "2. Print Even Numbers from 2 to 20\n",
        "\n",
        "Use a while loop to print even numbers from 2 to 20."
      ],
      "metadata": {
        "id": "8xqxiWDPbIDj"
      }
    },
    {
      "cell_type": "code",
      "source": [
        "for i in range(2, 21, 2):\n",
        "    print(i)\n"
      ],
      "metadata": {
        "colab": {
          "base_uri": "https://localhost:8080/"
        },
        "id": "sKLtXlRzXVDf",
        "outputId": "76ea3a71-5b0b-4101-9990-2174ce3e2bf2"
      },
      "execution_count": 2,
      "outputs": [
        {
          "output_type": "stream",
          "name": "stdout",
          "text": [
            "2\n",
            "4\n",
            "6\n",
            "8\n",
            "10\n",
            "12\n",
            "14\n",
            "16\n",
            "18\n",
            "20\n"
          ]
        }
      ]
    },
    {
      "cell_type": "markdown",
      "source": [
        "3. Sum of First N Natural Numbers\n",
        "\n",
        "Ask the user to enter a number n, and print the sum of first n natural numbers using a loop."
      ],
      "metadata": {
        "id": "qagPtx3bc80U"
      }
    },
    {
      "cell_type": "code",
      "source": [
        "N = int(input(\"Enter a number: \"))\n",
        "sum = N * (N + 1) // 2\n",
        "print(\"Sum of first\", N, \"natural numbers is:\", sum)\n"
      ],
      "metadata": {
        "colab": {
          "base_uri": "https://localhost:8080/"
        },
        "id": "4aVIsc0UdDod",
        "outputId": "f48c4e35-9f6a-4ae5-a264-8cb60cc564ff"
      },
      "execution_count": 3,
      "outputs": [
        {
          "output_type": "stream",
          "name": "stdout",
          "text": [
            "Enter a number: 654\n",
            "Sum of first 654 natural numbers is: 214185\n"
          ]
        }
      ]
    },
    {
      "cell_type": "markdown",
      "source": [
        "4. Break When Number is Found\n",
        "\n",
        "Given a list of numbers, write a loop to search for a number (say 42).\n",
        "\n",
        "Use break when it's found and print “Found 42!”\n",
        "\n",
        "Example: [10, 20, 30, 42, 50]"
      ],
      "metadata": {
        "id": "Ij4yHwlaeCX7"
      }
    },
    {
      "cell_type": "code",
      "source": [
        "list = [10,20,30,42,50]\n",
        "for i in list:\n",
        "    if i == 42:\n",
        "        print(\"Found 42!\")\n",
        "        break"
      ],
      "metadata": {
        "id": "1Ap6LjqCeNLu",
        "colab": {
          "base_uri": "https://localhost:8080/"
        },
        "outputId": "120848cb-75ab-4e2c-899a-e0761df6c5d9"
      },
      "execution_count": 4,
      "outputs": [
        {
          "output_type": "stream",
          "name": "stdout",
          "text": [
            "Found 42!\n"
          ]
        }
      ]
    },
    {
      "cell_type": "markdown",
      "source": [
        "Given a list of integers, print only the positive numbers using continue"
      ],
      "metadata": {
        "id": "uQDlCODtfwNc"
      }
    },
    {
      "cell_type": "code",
      "source": [
        "list = [10, -5, 0, 23, -1, 8, -12, 35, 21]\n",
        "\n",
        "for num in list:\n",
        "    if num <= 0:\n",
        "        continue\n",
        "    print(num)\n"
      ],
      "metadata": {
        "colab": {
          "base_uri": "https://localhost:8080/"
        },
        "id": "sNywT0SFf3WI",
        "outputId": "c722c16f-a033-452e-8f87-7222f0c9de5a"
      },
      "execution_count": 5,
      "outputs": [
        {
          "output_type": "stream",
          "name": "stdout",
          "text": [
            "10\n",
            "23\n",
            "8\n",
            "35\n",
            "21\n"
          ]
        }
      ]
    },
    {
      "cell_type": "markdown",
      "source": [
        "6. Multiplication Table (1 to 5)\n",
        "\n",
        "Use nested for loops to print the multiplication table for numbers 1 to 5."
      ],
      "metadata": {
        "id": "FEmsst8ig06Y"
      }
    },
    {
      "cell_type": "code",
      "source": [
        "for i in range(1, 11):\n",
        "    for j in range(1, 6):\n",
        "        print(f\"{j} x {i} = {i * j}\", end=\"\\t\")\n",
        "    print()\n"
      ],
      "metadata": {
        "colab": {
          "base_uri": "https://localhost:8080/"
        },
        "id": "7j7bLcvlhNec",
        "outputId": "7105967c-79e4-48fd-f028-7387a5fc05d1"
      },
      "execution_count": 6,
      "outputs": [
        {
          "output_type": "stream",
          "name": "stdout",
          "text": [
            "1 x 1 = 1\t2 x 1 = 2\t3 x 1 = 3\t4 x 1 = 4\t5 x 1 = 5\t\n",
            "1 x 2 = 2\t2 x 2 = 4\t3 x 2 = 6\t4 x 2 = 8\t5 x 2 = 10\t\n",
            "1 x 3 = 3\t2 x 3 = 6\t3 x 3 = 9\t4 x 3 = 12\t5 x 3 = 15\t\n",
            "1 x 4 = 4\t2 x 4 = 8\t3 x 4 = 12\t4 x 4 = 16\t5 x 4 = 20\t\n",
            "1 x 5 = 5\t2 x 5 = 10\t3 x 5 = 15\t4 x 5 = 20\t5 x 5 = 25\t\n",
            "1 x 6 = 6\t2 x 6 = 12\t3 x 6 = 18\t4 x 6 = 24\t5 x 6 = 30\t\n",
            "1 x 7 = 7\t2 x 7 = 14\t3 x 7 = 21\t4 x 7 = 28\t5 x 7 = 35\t\n",
            "1 x 8 = 8\t2 x 8 = 16\t3 x 8 = 24\t4 x 8 = 32\t5 x 8 = 40\t\n",
            "1 x 9 = 9\t2 x 9 = 18\t3 x 9 = 27\t4 x 9 = 36\t5 x 9 = 45\t\n",
            "1 x 10 = 10\t2 x 10 = 20\t3 x 10 = 30\t4 x 10 = 40\t5 x 10 = 50\t\n"
          ]
        }
      ]
    },
    {
      "cell_type": "markdown",
      "source": [
        "7. Print Pattern (Nested Loops)\n",
        "\n",
        "Print the following pattern using nested loops:\n"
      ],
      "metadata": {
        "id": "FyKh5qZNk7kN"
      }
    },
    {
      "cell_type": "code",
      "source": [
        "\n",
        "*\n",
        "* *\n",
        "* * *\n",
        "* * * *\n",
        "* * * * *"
      ],
      "metadata": {
        "id": "MUTkUtZ8laHS",
        "colab": {
          "base_uri": "https://localhost:8080/",
          "height": 106
        },
        "outputId": "0ca6ec78-d980-47b1-da17-48c9115e3bb6"
      },
      "execution_count": 7,
      "outputs": [
        {
          "output_type": "error",
          "ename": "SyntaxError",
          "evalue": "invalid syntax (ipython-input-2140345761.py, line 1)",
          "traceback": [
            "\u001b[0;36m  File \u001b[0;32m\"/tmp/ipython-input-2140345761.py\"\u001b[0;36m, line \u001b[0;32m1\u001b[0m\n\u001b[0;31m    *\u001b[0m\n\u001b[0m     ^\u001b[0m\n\u001b[0;31mSyntaxError\u001b[0m\u001b[0;31m:\u001b[0m invalid syntax\n"
          ]
        }
      ]
    },
    {
      "cell_type": "code",
      "source": [
        "for i in range(1, 6):\n",
        "    for j in range(i):\n",
        "        print(\"*\", end=\" \")\n",
        "    print()\n"
      ],
      "metadata": {
        "id": "ptuFp3tnlhHQ"
      },
      "execution_count": null,
      "outputs": []
    },
    {
      "cell_type": "markdown",
      "source": [
        "8. Count Vowels in a String\n",
        "\n",
        "Take a string and count how many vowels it contains using a loop."
      ],
      "metadata": {
        "id": "F4smBFYmnSpi"
      }
    },
    {
      "cell_type": "code",
      "source": [
        "text = input(\"Enter a string: \")\n",
        "\n",
        "vowel_count = 0\n",
        "vowels = \"aeiouAEIOU\"\n",
        "\n",
        "for char in text:\n",
        "    if char in vowels:\n",
        "        vowel_count += 1\n",
        "\n",
        "print(\"Number of vowels:\", vowel_count)\n"
      ],
      "metadata": {
        "colab": {
          "base_uri": "https://localhost:8080/"
        },
        "id": "81R30pF1nNhy",
        "outputId": "513ea7f7-3e64-40e7-fa89-229778a0d177"
      },
      "execution_count": 8,
      "outputs": [
        {
          "output_type": "stream",
          "name": "stdout",
          "text": [
            "Enter a string: sai\n",
            "Number of vowels: 2\n"
          ]
        }
      ]
    },
    {
      "cell_type": "markdown",
      "source": [
        "9. Find the Factorial of a Number\n",
        "\n",
        "Take an input n, and compute n! using a loop."
      ],
      "metadata": {
        "id": "wHs1n5v-n3Hb"
      }
    },
    {
      "cell_type": "code",
      "source": [
        "\n",
        "n = int(input(\"Enter a number: \"))\n",
        "\n",
        "factorial = 1\n",
        "\n",
        "for i in range(1, n + 1):\n",
        "    factorial *= i\n",
        "\n",
        "print(f\"The factorial of {n} is {factorial}\")\n"
      ],
      "metadata": {
        "colab": {
          "base_uri": "https://localhost:8080/"
        },
        "id": "QuwZpHVsn5mJ",
        "outputId": "67c7b9c2-136a-4fac-8297-1c8be0226153"
      },
      "execution_count": 9,
      "outputs": [
        {
          "output_type": "stream",
          "name": "stdout",
          "text": [
            "Enter a number: 10\n",
            "The factorial of 10 is 3628800\n"
          ]
        }
      ]
    },
    {
      "cell_type": "markdown",
      "source": [
        "10. Reverse a Number"
      ],
      "metadata": {
        "id": "kRoJBbInq_yW"
      }
    },
    {
      "cell_type": "code",
      "source": [
        "\n",
        "num = int(input(\"Enter a number: \"))\n",
        "reversed = 0\n",
        "original_num = num\n",
        "while num > 0:\n",
        "    digit = num % 10\n",
        "    reversed = reversed * 10 + digit\n",
        "    num = num // 10\n",
        "print(f\"The reverse of {original_num} is {reversed}\")\n"
      ],
      "metadata": {
        "colab": {
          "base_uri": "https://localhost:8080/"
        },
        "id": "Pq3msOHYrAcS",
        "outputId": "3aa3e56b-b779-4237-d4b3-30b19fdcca33"
      },
      "execution_count": 10,
      "outputs": [
        {
          "output_type": "stream",
          "name": "stdout",
          "text": [
            "Enter a number: 556\n",
            "The reverse of 556 is 655\n"
          ]
        }
      ]
    },
    {
      "cell_type": "markdown",
      "source": [
        "🚀 Higher-Medium Challenge: Prime Number Triangle"
      ],
      "metadata": {
        "id": "AAA6H1Wwx0V4"
      }
    },
    {
      "cell_type": "code",
      "source": [
        "def is_prime(num):\n",
        "    if num < 2:\n",
        "        return False\n",
        "    for i in range(2, int(num**0.5) + 1):\n",
        "        if num % i == 0:\n",
        "            return False\n",
        "    return True\n",
        "\n",
        "def prime_triangle(n):\n",
        "    count = 0\n",
        "    number = 2\n",
        "    for row in range(1, n + 1):\n",
        "        printed = 0\n",
        "        while printed < row:\n",
        "            if is_prime(number):\n",
        "                print(number, end=' ')\n",
        "                printed += 1\n",
        "            number += 1\n",
        "        print()\n",
        "n = int(input(\"Enter number of rows: \"))\n",
        "prime_triangle(n)\n"
      ],
      "metadata": {
        "id": "kftlgN5Fx7qk",
        "colab": {
          "base_uri": "https://localhost:8080/"
        },
        "outputId": "f09c2680-a431-4fd8-e8b2-16f02e0e96ec"
      },
      "execution_count": 11,
      "outputs": [
        {
          "output_type": "stream",
          "name": "stdout",
          "text": [
            "Enter number of rows: 5\n",
            "2 \n",
            "3 5 \n",
            "7 11 13 \n",
            "17 19 23 29 \n",
            "31 37 41 43 47 \n"
          ]
        }
      ]
    },
    {
      "cell_type": "markdown",
      "source": [],
      "metadata": {
        "id": "LNrkj1v6IsDo"
      }
    },
    {
      "cell_type": "markdown",
      "source": [
        "**FUNCTIONS :-**\n"
      ],
      "metadata": {
        "id": "26FxyfMPeQ8Q"
      }
    },
    {
      "cell_type": "code",
      "source": [
        "def greet():\n",
        "    print(\"Hello, welcome!\")\n"
      ],
      "metadata": {
        "id": "kDkOKugmewRx"
      },
      "execution_count": 12,
      "outputs": []
    },
    {
      "cell_type": "markdown",
      "source": [
        "**Function with Parameters**"
      ],
      "metadata": {
        "id": "C2by9PH3e7U8"
      }
    },
    {
      "cell_type": "code",
      "source": [
        "def greet(name):\n",
        "    print(f\"Hello, {name}!\")\n",
        "\n",
        "greet(\"Sai\")"
      ],
      "metadata": {
        "colab": {
          "base_uri": "https://localhost:8080/"
        },
        "id": "CUtuERFPe_zc",
        "outputId": "6b902590-7d3e-4f2c-a182-339782ac8c52"
      },
      "execution_count": 15,
      "outputs": [
        {
          "output_type": "stream",
          "name": "stdout",
          "text": [
            "Hello, Sai!\n"
          ]
        }
      ]
    },
    {
      "cell_type": "markdown",
      "source": [
        "**Function with Return Value**"
      ],
      "metadata": {
        "id": "z21GkAlPfFrj"
      }
    },
    {
      "cell_type": "code",
      "source": [
        "def add(a, b):\n",
        "    return a + b\n",
        "\n",
        "result = add(3, 5)\n",
        "print(result)\n"
      ],
      "metadata": {
        "colab": {
          "base_uri": "https://localhost:8080/"
        },
        "id": "yPnrivYtfPfE",
        "outputId": "79cad004-0dbd-47a9-9275-7f45f335cc62"
      },
      "execution_count": 16,
      "outputs": [
        {
          "output_type": "stream",
          "name": "stdout",
          "text": [
            "8\n"
          ]
        }
      ]
    },
    {
      "cell_type": "markdown",
      "source": [
        "**Default Parameters**"
      ],
      "metadata": {
        "id": "qnC1U4wLfcnS"
      }
    },
    {
      "cell_type": "code",
      "source": [
        "def greet(name=\"Guest\"):\n",
        "    print(f\"Hello, {name}!\")\n",
        "\n",
        "greet()\n",
        "greet(\"Mohan\")\n"
      ],
      "metadata": {
        "colab": {
          "base_uri": "https://localhost:8080/"
        },
        "id": "9gUJjTRefien",
        "outputId": "e07fa6c8-161e-4fbe-98ff-bf8f1ce88536"
      },
      "execution_count": 18,
      "outputs": [
        {
          "output_type": "stream",
          "name": "stdout",
          "text": [
            "Hello, Guest!\n",
            "Hello, Mohan!\n"
          ]
        }
      ]
    }
  ]
}