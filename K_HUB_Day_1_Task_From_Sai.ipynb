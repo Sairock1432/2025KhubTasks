{
  "cells": [
    {
      "cell_type": "markdown",
      "metadata": {
        "id": "VLDTPXYTXqED"
      },
      "source": [
        "STRING\n",
        "\n",
        "A string is a sequence of characters enclosed within single quotes ('hlo') or double quotes (\"hlo\")."
      ]
    },
    {
      "cell_type": "code",
      "execution_count": 1,
      "metadata": {
        "colab": {
          "base_uri": "https://localhost:8080/"
        },
        "id": "PGPfsVtcXeHW",
        "outputId": "ef5a9956-df4b-43aa-e950-fee9cd396017"
      },
      "outputs": [
        {
          "name": "stdout",
          "output_type": "stream",
          "text": [
            "Sai\n"
          ]
        }
      ],
      "source": [
        "name = \"Sai\"\n",
        "print(name)\n"
      ]
    },
    {
      "cell_type": "markdown",
      "metadata": {
        "id": "bMCK-h59XvgT"
      },
      "source": [
        "STRING METHODS\n",
        "\n",
        "upper()----Converts all letters to uppercase.\n",
        "\n",
        "lower()----Converts all letters to lowercase.\n",
        "\n",
        "strip()----Removes spaces from beginning and end.\n",
        "\n",
        "lstrip()----Removes spaces only from the left side.\n",
        "\n",
        "rstrip()----Removes spaces only from the right side.\n",
        "\n",
        "replace()----Replaces text.\n",
        "\n",
        "split()----Splits string into list of words.\n",
        "\n",
        "join()----Joins list of strings into one string.\n",
        "\n",
        "title()----Capitalizes first letter of every word.\n",
        "\n",
        "len()----Returns number of characters in string."
      ]
    },
    {
      "cell_type": "code",
      "execution_count": 2,
      "metadata": {
        "colab": {
          "base_uri": "https://localhost:8080/"
        },
        "id": "2Cahyi3CX2qE",
        "outputId": "6bc3fac8-4159-41ef-bee1-6c0b9a8fd953"
      },
      "outputs": [
        {
          "name": "stdout",
          "output_type": "stream",
          "text": [
            " HLO FRENDS THIS IS KCPD \n",
            " hlo frends this is kcpd \n",
            "hlo frends this is kcpd\n",
            "hlo frends this is kcpd \n",
            " hlo frends this is kcpd\n",
            " bye frends this is kcpd \n",
            "['hlo', 'frends', 'this', 'is', 'kcpd']\n",
            " Hlo Frends This Is Kcpd \n",
            "25\n"
          ]
        }
      ],
      "source": [
        "text = \" hlo frends this is kcpd \"\n",
        "\n",
        "print( text.upper())\n",
        "print( text.lower())\n",
        "print( text.strip())\n",
        "print( text.lstrip())\n",
        "print( text.rstrip())\n",
        "print( text.replace(\"hlo\", \"bye\"))\n",
        "print( text.strip().split())\n",
        "print( text.title())\n",
        "print(len(text))\n"
      ]
    },
    {
      "cell_type": "markdown",
      "metadata": {
        "id": "V9R02wGKX3jt"
      },
      "source": [
        "BOOLEAN\n",
        "\n",
        "Only two values:\n",
        "\n",
        "True---1\n",
        "\n",
        "False---0\n",
        "\n",
        "Used in logical operations and conditions.\n",
        "\n",
        "OPERATORS\n",
        "\n",
        "Comparison Operators\n",
        "\n",
        "Logical Operators\n",
        "\n",
        "COMPARSION OPERATORS\n",
        "\n",
        "*equal to ==\n",
        "\n",
        "*Not equal to !=\n",
        "\n",
        "*Greater than >\n",
        "\n",
        "*Less than <\n",
        "\n",
        "*Greater than or equal >=\n",
        "\n",
        "*Less than or equal <=\n",
        "\n",
        "LOGICAL OPERATORS\n",
        "\n",
        "and----Both conditions must be true\n",
        "\n",
        "or----At least one condition is true\n",
        "\n",
        "not----Reverses the condition"
      ]
    },
    {
      "cell_type": "code",
      "execution_count": 3,
      "metadata": {
        "colab": {
          "base_uri": "https://localhost:8080/"
        },
        "id": "NqDJfjOYX4xx",
        "outputId": "b35037d2-ca9c-4936-b1e8-649f3cecc59d"
      },
      "outputs": [
        {
          "name": "stdout",
          "output_type": "stream",
          "text": [
            "True\n",
            "False\n",
            "False\n",
            "True\n",
            "True\n",
            "True\n",
            "True\n"
          ]
        }
      ],
      "source": [
        "a = 10\n",
        "b = 5\n",
        "\n",
        "print( a > b)\n",
        "print( a < b)\n",
        "print( a == b)\n",
        "print(a != b)\n",
        "print(a >= 10 and b <= 5)\n",
        "print(a >= 10 or b <= 5)\n",
        "print(not(a == b))\n"
      ]
    },
    {
      "cell_type": "markdown",
      "metadata": {
        "id": "_Oct-HEXX5W0"
      },
      "source": [
        "LIST\n",
        "\n",
        "Ordered\n",
        "\n",
        "Mutable\n",
        "\n",
        "Duplicates allowed"
      ]
    },
    {
      "cell_type": "code",
      "execution_count": 4,
      "metadata": {
        "colab": {
          "base_uri": "https://localhost:8080/"
        },
        "id": "pN3ks_KAX6Ao",
        "outputId": "5c75e2ed-8eb9-4a92-88b2-920b5cf6eddc"
      },
      "outputs": [
        {
          "name": "stdout",
          "output_type": "stream",
          "text": [
            "['devi', 'swaroopa', 'geeta', 'roja']\n"
          ]
        }
      ],
      "source": [
        "names = [\"devi\", \"swaroopa\", \"geeta\"]\n",
        "names.append(\"roja\")\n",
        "print(names)"
      ]
    },
    {
      "cell_type": "markdown",
      "metadata": {
        "id": "JPycZNGGX6bg"
      },
      "source": [
        "TUPLE\n",
        "\n",
        "Ordered\n",
        "\n",
        "Immutable (can't change)\n",
        "\n",
        "Allows duplicates"
      ]
    },
    {
      "cell_type": "code",
      "execution_count": 5,
      "metadata": {
        "colab": {
          "base_uri": "https://localhost:8080/"
        },
        "id": "dmuUHdfSX64O",
        "outputId": "eb64b006-6996-4430-b640-585bb2644546"
      },
      "outputs": [
        {
          "name": "stdout",
          "output_type": "stream",
          "text": [
            "prawns\n"
          ]
        }
      ],
      "source": [
        "food = (\"chicken\", \"prawns\", \"fish\")\n",
        "print(food[1])"
      ]
    },
    {
      "cell_type": "markdown",
      "metadata": {
        "id": "zbhxQc8mX7S6"
      },
      "source": [
        "SET\n",
        "\n",
        "Unordered\n",
        "\n",
        "No duplicates\n",
        "\n",
        "Mutable"
      ]
    },
    {
      "cell_type": "code",
      "execution_count": 6,
      "metadata": {
        "colab": {
          "base_uri": "https://localhost:8080/"
        },
        "id": "0qOB9xZGX73v",
        "outputId": "dd494a2f-efe2-4168-e0fd-8abb4380b8f0"
      },
      "outputs": [
        {
          "name": "stdout",
          "output_type": "stream",
          "text": [
            "{1, 2, 3, 4, 5, 6, 7, 8}\n"
          ]
        }
      ],
      "source": [
        "nums = {1, 2, 3, 3,4,5,6,5,8,7}\n",
        "print(nums)\n"
      ]
    },
    {
      "cell_type": "markdown",
      "metadata": {
        "id": "IPG_suibX8Xz"
      },
      "source": [
        "DICTIONARY (dict)\n",
        "\n",
        "Key-value pairs\n",
        "\n",
        "Mutable\n",
        "\n",
        "Insertion order maintained"
      ]
    },
    {
      "cell_type": "code",
      "execution_count": 7,
      "metadata": {
        "colab": {
          "base_uri": "https://localhost:8080/"
        },
        "id": "qfg02jm7X84D",
        "outputId": "6e868b66-1bbc-4336-e243-2add644c1718"
      },
      "outputs": [
        {
          "name": "stdout",
          "output_type": "stream",
          "text": [
            "sai\n",
            "20\n"
          ]
        }
      ],
      "source": [
        "student = {\"name\": \"sai\", \"age\": 20}\n",
        "print(student[\"name\"])\n",
        "print(student[\"age\"])\n"
      ]
    },
    {
      "cell_type": "markdown",
      "metadata": {
        "id": "XEkVhOFFZOLm"
      },
      "source": [
        "CONDITIONAL STATEMENTS\n",
        "\n",
        "Conditional statements are used to control the flow of your program based on a condition. They let the program make decisions and execute different code blocks depending on whether a condition is True or False\n",
        "\n",
        "if----Runs a block of code if the condition is True\n",
        "\n",
        "elif----Runs if the previous if condition is False and this one is True\n",
        "\n",
        "else----Runs when all above conditions are False"
      ]
    },
    {
      "cell_type": "code",
      "execution_count": 8,
      "metadata": {
        "colab": {
          "base_uri": "https://localhost:8080/"
        },
        "id": "yAZSGlm0ZNf4",
        "outputId": "24735c05-0939-4544-ac83-8ad88efdbe01"
      },
      "outputs": [
        {
          "name": "stdout",
          "output_type": "stream",
          "text": [
            "Zero\n"
          ]
        }
      ],
      "source": [
        "num = 0\n",
        "\n",
        "if num > 0:\n",
        "    print(\"Positive number\")\n",
        "elif num < 0:\n",
        "    print(\"Negative number\")\n",
        "else:\n",
        "    print(\"Zero\")"
      ]
    },
    {
      "cell_type": "code",
      "execution_count": 9,
      "metadata": {
        "colab": {
          "base_uri": "https://localhost:8080/"
        },
        "id": "lhhszCcIZYa3",
        "outputId": "db6a2de2-3520-4b95-9e86-eb701d703ee1"
      },
      "outputs": [
        {
          "name": "stdout",
          "output_type": "stream",
          "text": [
            "Enter your score: 90\n",
            "Grade A\n"
          ]
        }
      ],
      "source": [
        "score = int(input(\"Enter your score: \"))\n",
        "\n",
        "if score >= 90:\n",
        "    print(\"Grade A\")\n",
        "elif score >= 75:\n",
        "    print(\"Grade B\")\n",
        "elif score >= 60:\n",
        "    print(\"Grade C\")\n",
        "else:\n",
        "    print(\"Fail\")"
      ]
    },
    {
      "cell_type": "markdown",
      "metadata": {
        "id": "F-zbqXSkZPDM"
      },
      "source": [
        "MATCH-CASE\n",
        "\n",
        "The match-case statement is used to match a variable’s value against multiple patterns (like options), and execute the block that matches\n"
      ]
    },
    {
      "cell_type": "code",
      "execution_count": 10,
      "metadata": {
        "colab": {
          "base_uri": "https://localhost:8080/"
        },
        "id": "W-i9_OrpZPlc",
        "outputId": "0338f897-e6d2-4b38-9d64-c4bd8ee96078"
      },
      "outputs": [
        {
          "name": "stdout",
          "output_type": "stream",
          "text": [
            "MOHAN\n"
          ]
        }
      ],
      "source": [
        "day = \"Friday\"\n",
        "\n",
        "match day:\n",
        "    case \"Monday\":\n",
        "        print(\"SAI\")\n",
        "    case \"Friday\":\n",
        "        print(\"MOHAN\")\n",
        "    case \"Sunday\":\n",
        "        print(\"NAIDHU\")\n",
        "    case _:\n",
        "        print(\"NOT MATCHING\")\n"
      ]
    }
  ],
  "metadata": {
    "colab": {
      "provenance": []
    },
    "kernelspec": {
      "display_name": "Python 3",
      "name": "python3"
    },
    "language_info": {
      "codemirror_mode": {
        "name": "ipython",
        "version": 3
      },
      "file_extension": ".py",
      "mimetype": "text/x-python",
      "name": "python",
      "nbconvert_exporter": "python",
      "pygments_lexer": "ipython3",
      "version": "3.13.5"
    }
  },
  "nbformat": 4,
  "nbformat_minor": 0
}
