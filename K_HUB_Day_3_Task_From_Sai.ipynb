{
  "nbformat": 4,
  "nbformat_minor": 0,
  "metadata": {
    "colab": {
      "provenance": []
    },
    "kernelspec": {
      "name": "python3",
      "display_name": "Python 3"
    },
    "language_info": {
      "name": "python"
    }
  },
  "cells": [
    {
      "cell_type": "code",
      "source": [
        "def add(a,b):\n",
        "    return a + b\n",
        "def subaract(a,b):\n",
        "    return a - b\n",
        "def multiple(a,b):\n",
        "    return a * b\n",
        "def div(a,b):\n",
        "    return a / b\n",
        "def cal(a,b,z):\n",
        "    if z == 1:\n",
        "        print(add(a,b))\n",
        "    elif z == 2:\n",
        "        print(subaract(a,b))\n",
        "    elif z == 3:\n",
        "        print(multiple(a,b))\n",
        "    elif z == 4:\n",
        "        print(div(a,b))\n",
        "a = int(input(\"Enter first number: \"))\n",
        "b = int(input(\"Enter second number: \"))\n",
        "print(\"enter 1 to add \\n emter 2 to subract \\n enter 3 to multiple \\n enter 4 to divided \\n\" )\n",
        "z=int(input(\"enter oprater\"))\n",
        "cal(a,b,z)\n"
      ],
      "metadata": {
        "colab": {
          "base_uri": "https://localhost:8080/"
        },
        "id": "IA7MUPJYlNqm",
        "outputId": "311e9d43-0410-4fb3-f2a1-0f104266889c"
      },
      "execution_count": null,
      "outputs": [
        {
          "output_type": "stream",
          "name": "stdout",
          "text": [
            "Enter first number: 50\n",
            "Enter second number: 50\n",
            "enter 1 to add \n",
            " emter 2 to subract \n",
            " enter 3 to multiple \n",
            " enter 4 to divided \n",
            "\n",
            "enter oprater2\n",
            "0\n"
          ]
        }
      ]
    },
    {
      "cell_type": "code",
      "source": [
        "MENU = {\n",
        "    \"espresso\": {\n",
        "        \"ingredients\": {\"water\": 50, \"milk\": 0, \"coffee\": 20},\n",
        "        \"cost\": 80\n",
        "    },\n",
        "    \"latte\": {\n",
        "        \"ingredients\": {\"water\": 200, \"milk\": 150, \"coffee\": 25},\n",
        "        \"cost\": 200\n",
        "    },\n",
        "    \"cappuccino\": {\n",
        "        \"ingredients\": {\"water\": 250, \"milk\": 100, \"coffee\": 30},\n",
        "        \"cost\": 150\n",
        "    }\n",
        "}\n",
        "\n",
        "resources = {\n",
        "    \"water\": 30000,\n",
        "    \"milk\": 20000,\n",
        "    \"coffee\": 10000,\n",
        "    \"money\": 0.0\n",
        "}\n",
        "\n",
        "def report():\n",
        "    print(f\"Water: {resources['water']}ml\")\n",
        "    print(f\"Milk: {resources['milk']}ml\")\n",
        "    print(f\"Coffee: {resources['coffee']}g\")\n",
        "    print(f\"Money: ₹{resources['money']}\")\n",
        "\n",
        "def is_resource_sufficient(order_ingredients):\n",
        "    for item in order_ingredients:\n",
        "        if order_ingredients[item] > resources[item]:\n",
        "            print(f\"Sorry, not enough {item}.\")\n",
        "            return False\n",
        "    return True\n",
        "\n",
        "def process_payment(drink_cost):\n",
        "    amount_received = float(input(\"Insert money in ₹: \"))\n",
        "    if amount_received < drink_cost:\n",
        "        print(\"Sorry, that's not enough money. Money refunded.\")\n",
        "        return False\n",
        "    change = round(amount_received - drink_cost, 2)\n",
        "    if change > 0:\n",
        "        print(f\"Here is ₹{change} in change.\")\n",
        "    resources[\"money\"] += drink_cost\n",
        "    return True\n",
        "\n",
        "def make_coffee(drink_name, order_ingredients):\n",
        "    for item in order_ingredients:\n",
        "        resources[item] -= order_ingredients[item]\n",
        "    print(f\"Here is your {drink_name}. Enjoy!\")\n",
        "\n",
        "# Main Loop\n",
        "is_on = True\n",
        "\n",
        "while is_on:\n",
        "    choice = input(\"What would you like? (espresso/latte/cappuccino/report/off): \").lower()\n",
        "    if choice == \"off\":\n",
        "        is_on = False\n",
        "    elif choice == \"report\":\n",
        "        report()\n",
        "    elif choice in MENU:\n",
        "        drink = MENU[choice]\n",
        "        if is_resource_sufficient(drink[\"ingredients\"]):\n",
        "            if process_payment(drink[\"cost\"]):\n",
        "                make_coffee(choice, drink[\"ingredients\"])\n",
        "    else:\n",
        "        print(\"Invalid choice.\")\n"
      ],
      "metadata": {
        "colab": {
          "base_uri": "https://localhost:8080/"
        },
        "id": "mBFg_cDk36iA",
        "outputId": "89a176a5-17ad-4ae1-95d0-c99a020b1be2"
      },
      "execution_count": null,
      "outputs": [
        {
          "name": "stdout",
          "output_type": "stream",
          "text": [
            "What would you like? (espresso/latte/cappuccino/report/off): off\n"
          ]
        }
      ]
    }
  ]
}